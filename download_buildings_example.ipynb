{
 "cells": [
  {
   "cell_type": "markdown",
   "id": "6132cabc",
   "metadata": {},
   "source": [
    "[![image](https://jupyterlite.rtfd.io/en/latest/_static/badge.svg)](https://demo.leafmap.org/lab/index.html?path=notebooks/buildings.ipynb)\n",
    "[![image](https://studiolab.sagemaker.aws/studiolab.svg)](https://studiolab.sagemaker.aws/import/github/opengeos/leafmap/blob/master/examples/notebooks/buildings.ipynb)\n",
    "[![image](https://img.shields.io/badge/Open-Planetary%20Computer-black?style=flat&logo=microsoft)](https://pccompute.westeurope.cloudapp.azure.com/compute/hub/user-redirect/git-pull?repo=https://github.com/opengeos/leafmap&urlpath=lab/tree/leafmap/examples/notebooks/buildings.ipynb&branch=master)\n",
    "[![image](https://colab.research.google.com/assets/colab-badge.svg)](https://githubtocolab.com/opengeos/leafmap/blob/master/examples/notebooks/01_leafmap_intro.ipynb)\n",
    "[![image](https://mybinder.org/badge_logo.svg)](https://gishub.org/leafmap-binder)\n",
    "\n",
    "**Downloading Microsoft and Google Building Footprints**\n",
    "\n",
    "*This example notebook is copied from the open source repo: [Leafmap](https://github.com/opengeos/leafmap)\n",
    "\n",
    "This notebook demonstrates how to download Microsoft and Google Building Footprints and merge them into a single vector file.\n",
    "\n",
    "- Microsoft Global Building Footprints: https://github.com/microsoft/GlobalMLBuildingFootprints\n",
    "- Google Open Buildings: https://sites.research.google/open-buildings\n",
    "\n",
    "\n",
    "\n",
    "I could NOT install leafmap on a new environment cloned from my esri environment: such as \"arcgispro-py3-clone.\"  It reported that there was an error with geopandas installed in the esri environment.  To deal with this, I did the following:\n",
    "\n",
    "As of 9/2023, the Python environment needs to be at 3.9.x\n",
    "(This worked for me, M. Bishopp, run in succession via command line--on the cmd prompt):"
   ]
  },
  {
   "cell_type": "raw",
   "id": "be671e0f-78f7-4431-8076-696779c1bc61",
   "metadata": {},
   "source": [
    "C:\\>conda create --name=<new environment name; e.g. \"python_3.9.18\"> python=<appropriate version; e.g. \"3.9.18\">\n",
    "C:\\>activate <new environment name>\n",
    "C:\\>conda install -c conda-forge geopandas\n",
    "C:\\>conda install -c conda-forge leafmap"
   ]
  },
  {
   "cell_type": "markdown",
   "id": "846a28d5",
   "metadata": {},
   "source": [
    "Uncomment the following line to install [leafmap](https://leafmap.org) using pip (if needed)"
   ]
  },
  {
   "cell_type": "code",
   "execution_count": 1,
   "id": "cb8140ff",
   "metadata": {},
   "outputs": [],
   "source": [
    "# %pip install -U leafmap geopandas"
   ]
  },
  {
   "cell_type": "markdown",
   "id": "058e7f1c",
   "metadata": {},
   "source": [
    "Probably better to use this to install leafmap with your conda environment (again, if needed)"
   ]
  },
  {
   "cell_type": "code",
   "execution_count": 2,
   "id": "66e1c9bb-6396-47b7-a03d-b9a3b9d9ba90",
   "metadata": {},
   "outputs": [],
   "source": [
    "# Better than pip for a conda environment:\n",
    "#conda install -c conda-forge geopandas\n",
    "#conda install -c conda-forge leafmap"
   ]
  },
  {
   "cell_type": "code",
   "execution_count": 3,
   "id": "f672d26c",
   "metadata": {},
   "outputs": [],
   "source": [
    "import leafmap"
   ]
  },
  {
   "cell_type": "markdown",
   "id": "11189da9",
   "metadata": {},
   "source": [
    "Specify the country name."
   ]
  },
  {
   "cell_type": "code",
   "execution_count": 4,
   "id": "918d612b",
   "metadata": {},
   "outputs": [],
   "source": [
    "country = \"Egypt\""
   ]
  },
  {
   "cell_type": "markdown",
   "id": "971a5488",
   "metadata": {},
   "source": [
    "Specify the number of files to download. Set to `None` to download all files."
   ]
  },
  {
   "cell_type": "code",
   "execution_count": 5,
   "id": "48db84c7",
   "metadata": {},
   "outputs": [],
   "source": [
    "head = 2"
   ]
  },
  {
   "cell_type": "markdown",
   "id": "6d029dd7",
   "metadata": {},
   "source": [
    "Download the Microsoft building footprints."
   ]
  },
  {
   "cell_type": "code",
   "execution_count": 6,
   "id": "e8acdd9e",
   "metadata": {},
   "outputs": [
    {
     "name": "stdout",
     "output_type": "stream",
     "text": [
      "Found 113 links for Egypt\n",
      "Downloading 1 of 2: 122120011.geojson\n"
     ]
    },
    {
     "name": "stderr",
     "output_type": "stream",
     "text": [
      "Cannot find header.dxf (GDAL_DATA is not defined)\n"
     ]
    },
    {
     "name": "stdout",
     "output_type": "stream",
     "text": [
      "Downloading 2 of 2: 122120013.geojson\n",
      "Reading 1 of 2: buildings\\122120011.geojson\n",
      "Reading 2 of 2: buildings\\122120013.geojson\n",
      "Merging GeoDataFrames ...\n",
      "Saving merged file to Egypt_ms.shp ...\n",
      "Saved merged file to Egypt_ms.shp\n"
     ]
    },
    {
     "data": {
      "text/plain": [
       "['buildings\\\\122120011.geojson', 'buildings\\\\122120013.geojson']"
      ]
     },
     "execution_count": 6,
     "metadata": {},
     "output_type": "execute_result"
    }
   ],
   "source": [
    "leafmap.download_ms_buildings(\n",
    "    country, \n",
    "    out_dir=\"buildings\", \n",
    "    merge_output=f\"{country}_ms.shp\", \n",
    "    head=head\n",
    "    )"
   ]
  },
  {
   "cell_type": "markdown",
   "id": "8ac62ae0",
   "metadata": {},
   "source": [
    "Display the Microsoft building footprints."
   ]
  },
  {
   "cell_type": "code",
   "execution_count": 7,
   "id": "1f1f4bbd",
   "metadata": {},
   "outputs": [
    {
     "data": {
      "application/vnd.jupyter.widget-view+json": {
       "model_id": "8c657a4d3ffa4331a47bc57a20817bee",
       "version_major": 2,
       "version_minor": 0
      },
      "text/plain": [
       "Map(center=[20, 0], controls=(ZoomControl(options=['position', 'zoom_in_text', 'zoom_in_title', 'zoom_out_text…"
      ]
     },
     "execution_count": 7,
     "metadata": {},
     "output_type": "execute_result"
    }
   ],
   "source": [
    "m = leafmap.Map()\n",
    "m.add_basemap(\"SATELLITE\")\n",
    "m.add_vector(f\"{country}_ms.shp\", layer_name=\"MS Buildings\")\n",
    "m"
   ]
  },
  {
   "cell_type": "markdown",
   "id": "6cf24e82",
   "metadata": {},
   "source": [
    "Download the Google building footprints."
   ]
  },
  {
   "cell_type": "code",
   "execution_count": 8,
   "id": "0fc8588f",
   "metadata": {},
   "outputs": [
    {
     "name": "stdout",
     "output_type": "stream",
     "text": [
      "Found 7 links for Egypt.\n"
     ]
    },
    {
     "name": "stderr",
     "output_type": "stream",
     "text": [
      "Downloading...\n",
      "From: https://storage.googleapis.com/open-buildings-data/v3/polygons_s2_level_4_gzip/141_buildings.csv.gz\n",
      "To: h:\\Scripting\\Jupyter\\download-structures\\buildings\\141_buildings.csv.gz\n",
      "100%|██████████| 1.01M/1.01M [00:00<00:00, 1.94MB/s]\n",
      "Downloading...\n",
      "From: https://storage.googleapis.com/open-buildings-data/v3/polygons_s2_level_4_gzip/15b_buildings.csv.gz\n",
      "To: h:\\Scripting\\Jupyter\\download-structures\\buildings\\15b_buildings.csv.gz\n",
      "100%|██████████| 2.07M/2.07M [00:00<00:00, 3.32MB/s]\n"
     ]
    },
    {
     "name": "stdout",
     "output_type": "stream",
     "text": [
      "Merging GeoDataFrames ...\n"
     ]
    }
   ],
   "source": [
    "leafmap.download_google_buildings(\n",
    "    country, \n",
    "    out_dir=\"buildings\", \n",
    "    merge_output=f\"{country}_google.shp\", \n",
    "    head=head, \n",
    "    overwrite=True\n",
    "    )"
   ]
  },
  {
   "cell_type": "markdown",
   "id": "3d978eab",
   "metadata": {},
   "source": [
    "Display the Google building footprints."
   ]
  },
  {
   "cell_type": "code",
   "execution_count": 9,
   "id": "3aa7b1e9",
   "metadata": {},
   "outputs": [],
   "source": [
    "url = 'https://sites.research.google/open-buildings/tiles.geojson'"
   ]
  },
  {
   "cell_type": "code",
   "execution_count": 10,
   "id": "c153a951",
   "metadata": {
    "tags": []
   },
   "outputs": [
    {
     "data": {
      "application/vnd.jupyter.widget-view+json": {
       "model_id": "230add874026485db83dedb8b44aad33",
       "version_major": 2,
       "version_minor": 0
      },
      "text/plain": [
       "Map(center=[20, 0], controls=(ZoomControl(options=['position', 'zoom_in_text', 'zoom_in_title', 'zoom_out_text…"
      ]
     },
     "execution_count": 10,
     "metadata": {},
     "output_type": "execute_result"
    }
   ],
   "source": [
    "m = leafmap.Map()\n",
    "m.add_basemap(\"SATELLITE\")\n",
    "m.add_geojson(url, layer_name=\"Google Building Coverage\")\n",
    "m.add_vector(f\"{country}_google.shp\", layer_name=\"Google Buildings\")\n",
    "m"
   ]
  }
 ],
 "metadata": {
  "kernelspec": {
   "display_name": "Python 3 (ipykernel)",
   "language": "python",
   "name": "python3"
  },
  "language_info": {
   "codemirror_mode": {
    "name": "ipython",
    "version": 3
   },
   "file_extension": ".py",
   "mimetype": "text/x-python",
   "name": "python",
   "nbconvert_exporter": "python",
   "pygments_lexer": "ipython3",
   "version": "3.9.18"
  }
 },
 "nbformat": 4,
 "nbformat_minor": 5
}
